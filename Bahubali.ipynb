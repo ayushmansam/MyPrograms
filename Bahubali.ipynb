{
 "cells": [
  {
   "cell_type": "code",
   "execution_count": 1,
   "id": "371a72cc-fd1e-425a-beef-58dac75c8c86",
   "metadata": {},
   "outputs": [
    {
     "name": "stdin",
     "output_type": "stream",
     "text": [
      "Enter your number:  1234\n"
     ]
    },
    {
     "name": "stdout",
     "output_type": "stream",
     "text": [
      "It isn't!\n"
     ]
    }
   ],
   "source": [
    "a = input(\"Enter your number: \")\n",
    "b = len(a)\n",
    "l=[]\n",
    "for i in range(0, b):\n",
    "    c = a[i]\n",
    "    d = int(c)**b\n",
    "    l.append(d)\n",
    "if sum(l) == int(a):\n",
    "    print(\"The number is armstrong!\")\n",
    "else:\n",
    "    print(\"It isn't!\")\n",
    "#use 9474 and 1234 for testing"
   ]
  }
 ],
 "metadata": {
  "kernelspec": {
   "display_name": "Python 3 (ipykernel)",
   "language": "python",
   "name": "python3"
  },
  "language_info": {
   "codemirror_mode": {
    "name": "ipython",
    "version": 3
   },
   "file_extension": ".py",
   "mimetype": "text/x-python",
   "name": "python",
   "nbconvert_exporter": "python",
   "pygments_lexer": "ipython3",
   "version": "3.9.12"
  }
 },
 "nbformat": 4,
 "nbformat_minor": 5
}
