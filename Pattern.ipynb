{
 "cells": [
  {
   "cell_type": "code",
   "execution_count": 13,
   "id": "76c3707a-adcf-4f58-bd11-eeedf24cad68",
   "metadata": {},
   "outputs": [
    {
     "name": "stdin",
     "output_type": "stream",
     "text": [
      "enter your number:  11\n"
     ]
    },
    {
     "name": "stdout",
     "output_type": "stream",
     "text": [
      "11111111111\n",
      "2222222222\n",
      "333333333\n",
      "44444444\n",
      "5555555\n",
      "666666\n",
      "77777\n",
      "8888\n",
      "999\n",
      "1010\n",
      "11\n"
     ]
    }
   ],
   "source": [
    "a = int(input(\"enter your number: \"))\n",
    "b = a\n",
    "for i in range(1,a+1):\n",
    "    c = str(i)\n",
    "    print(c*b)\n",
    "    b-=1\n",
    "    #print(b)"
   ]
  }
 ],
 "metadata": {
  "kernelspec": {
   "display_name": "Python 3 (ipykernel)",
   "language": "python",
   "name": "python3"
  },
  "language_info": {
   "codemirror_mode": {
    "name": "ipython",
    "version": 3
   },
   "file_extension": ".py",
   "mimetype": "text/x-python",
   "name": "python",
   "nbconvert_exporter": "python",
   "pygments_lexer": "ipython3",
   "version": "3.9.12"
  }
 },
 "nbformat": 4,
 "nbformat_minor": 5
}
