{
 "cells": [
  {
   "cell_type": "code",
   "execution_count": 10,
   "id": "7cd184c0-17e0-40ef-86f1-88b84589979a",
   "metadata": {},
   "outputs": [
    {
     "name": "stdin",
     "output_type": "stream",
     "text": [
      "Enter your number:  1\n"
     ]
    },
    {
     "name": "stdout",
     "output_type": "stream",
     "text": [
      "It is nothing!\n"
     ]
    }
   ],
   "source": [
    "number = int(input(\"Enter your number: \"))\n",
    "l = []\n",
    "for i in range(1, 11):\n",
    "    if number%i == 0:\n",
    "        l.append(i)\n",
    "    else:\n",
    "        pass\n",
    "if len(l) > 2:\n",
    "    print(\"Composite\")\n",
    "elif len(l) == 2:\n",
    "    print(\"Prime\")\n",
    "elif len(l) == 1:\n",
    "    print(\"It is nothing!\")"
   ]
  },
  {
   "cell_type": "code",
   "execution_count": null,
   "id": "b9b0c25c-c518-4964-a83f-318dfe69e990",
   "metadata": {},
   "outputs": [],
   "source": []
  }
 ],
 "metadata": {
  "kernelspec": {
   "display_name": "Python 3 (ipykernel)",
   "language": "python",
   "name": "python3"
  },
  "language_info": {
   "codemirror_mode": {
    "name": "ipython",
    "version": 3
   },
   "file_extension": ".py",
   "mimetype": "text/x-python",
   "name": "python",
   "nbconvert_exporter": "python",
   "pygments_lexer": "ipython3",
   "version": "3.9.12"
  }
 },
 "nbformat": 4,
 "nbformat_minor": 5
}
