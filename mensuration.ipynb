{
 "cells": [
  {
   "cell_type": "code",
   "execution_count": 1,
   "id": "b1b3a5f4-1232-4e88-8998-71052cad6beb",
   "metadata": {},
   "outputs": [],
   "source": [
    "class mensuration:\n",
    "    def __init__(self):\n",
    "        import math\n",
    "    #perimeter\n",
    "    def perimeter_of_square(self, s):\n",
    "        print(4*s)\n",
    "    def perimeter_of_rectangle(self, l, b):\n",
    "        print(2*(l+b))\n",
    "    def circumference_of_circle(self, r):\n",
    "        print(2*math.pi*r)\n",
    "    def perimeter_of_triangle(self, s1, s2, s3):\n",
    "        print(s1+s2+s3)\n",
    "    #area\n",
    "    def area_of_square(self, s):\n",
    "        print(s**2)\n",
    "    def area_of_square(self, l,b):\n",
    "        print(l*b)\n",
    "    def area_of_triangle(self, h, b):\n",
    "        print(0.5*b*h)\n",
    "    def area_of_circle(self, r):\n",
    "        print(math.pi*r**2)\n",
    "    def sa_of_cube(self, s):\n",
    "        print(6*s**2)\n",
    "    def sa_of_cuboid(self, l, b, h):\n",
    "        print(2*(l+b+h))\n",
    "    def sa_of_cylinder(self, r, h):\n",
    "        print(2*math.pi*r*h+2*math.pi*r**2)\n",
    "    def lateral_sa_of_cube(self, s):\n",
    "        print(4*s**2)\n",
    "    def lateral_sa_of_cube_and_one_side(self, s):\n",
    "        print(5*s**2)\n",
    "    def lateral_sa_of_cuboid(self, l, b, h):\n",
    "        print(2*h(l+b))\n",
    "    def lateral_sa_of_cuboid(self, l, b, h):\n",
    "        print(2*h(l+b))\n",
    "    def lateral_sa_of_cuboid_and_one_side(self, l, b, h):\n",
    "        print(2*h(l+b) + l*b)\n",
    "    def lateral_sa_of_cylinder(self, r, h):\n",
    "        print(2*math.pi*r*h)\n",
    "    def lateral_sa_of_cylinder_and_one_side(self, r, h):\n",
    "        print(2*math.pi*r*h+math.pi*r**2)"
   ]
  }
 ],
 "metadata": {
  "kernelspec": {
   "display_name": "Python 3 (ipykernel)",
   "language": "python",
   "name": "python3"
  },
  "language_info": {
   "codemirror_mode": {
    "name": "ipython",
    "version": 3
   },
   "file_extension": ".py",
   "mimetype": "text/x-python",
   "name": "python",
   "nbconvert_exporter": "python",
   "pygments_lexer": "ipython3",
   "version": "3.9.12"
  }
 },
 "nbformat": 4,
 "nbformat_minor": 5
}
